{
 "cells": [
  {
   "cell_type": "code",
   "execution_count": 1,
   "id": "initial_id",
   "metadata": {
    "collapsed": true,
    "ExecuteTime": {
     "end_time": "2024-02-14T19:44:20.990173Z",
     "start_time": "2024-02-14T19:44:20.324201Z"
    }
   },
   "outputs": [
    {
     "name": "stdout",
     "output_type": "stream",
     "text": [
      "     roll\n",
      "0       1\n",
      "1       5\n",
      "2       3\n",
      "3       4\n",
      "4       6\n",
      "..    ...\n",
      "595     2\n",
      "596     3\n",
      "597     1\n",
      "598     6\n",
      "599     1\n",
      "\n",
      "[600 rows x 1 columns]\n"
     ]
    },
    {
     "name": "stderr",
     "output_type": "stream",
     "text": [
      "/var/folders/94/4fxy71g916s7hrz4jrlm6kbc0000gp/T/ipykernel_93672/2073268118.py:2: DeprecationWarning: \n",
      "Pyarrow will become a required dependency of pandas in the next major release of pandas (pandas 3.0),\n",
      "(to allow more performant data types, such as the Arrow string type, and better interoperability with other libraries)\n",
      "but was not found to be installed on your system.\n",
      "If this would cause problems for you,\n",
      "please provide us feedback at https://github.com/pandas-dev/pandas/issues/54466\n",
      "        \n",
      "  import pandas as pd\n"
     ]
    }
   ],
   "source": [
    "import random\n",
    "import pandas as pd\n",
    "\n",
    "data = []                      # Step 1, empty list `data`\n",
    "for i in range(600):           # Step 2: for-loop\n",
    "  roll = random.randint(1, 6)\n",
    "  # Step 3: simulate real-world factors\n",
    "  d = { \"roll\": roll }         # Step 4: accumulate factors in dictionary `d`\n",
    "  data.append(d)               # Step 5: append `d` to `data`\n",
    "df = pd.DataFrame(data)   # Step 6: create the DataFrame (outside of the for-loop)\n",
    "print (df)"
   ]
  },
  {
   "cell_type": "code",
   "outputs": [
    {
     "name": "stdout",
     "output_type": "stream",
     "text": [
      "     white  black winorloss\n",
      "0        1      5   loss :(\n",
      "1        3      1   loss :(\n",
      "2        5      1   loss :(\n",
      "3        6      4   loss :(\n",
      "4        2      6   loss :(\n",
      "..     ...    ...       ...\n",
      "595      2      2      win!\n",
      "596      4      1   loss :(\n",
      "597      4      4      win!\n",
      "598      2      4   loss :(\n",
      "599      5      3   loss :(\n",
      "\n",
      "[600 rows x 3 columns]\n"
     ]
    }
   ],
   "source": [
    "import random\n",
    "import pandas as pd\n",
    "\n",
    "# Step 1, empty list `data`:\n",
    "data = []\n",
    "\n",
    "# Step 2: for-loop:\n",
    "for i in range(600):\n",
    "  # Step 3: simulate all real-world factors:\n",
    "  black = random.randint(1, 6)  \n",
    "  white = random.randint(1, 6)\n",
    "  if white == black:\n",
    "    winorloss = \"win!\"\n",
    "  else:\n",
    "    winorloss = \"loss :(\"     \n",
    "  # Step 4: accumulate all factors in dictionary `d`:\n",
    "  d = { \"white\": white, \"black\": black, \"winorloss\": winorloss }\n",
    "\n",
    "  # Step 5: append `d` to `data`\n",
    "  data.append(d)\n",
    "\n",
    "# Step 6: create the DataFrame (outside of the for-loop)\n",
    "df = pd.DataFrame(data)\n",
    "print (df)"
   ],
   "metadata": {
    "collapsed": false,
    "ExecuteTime": {
     "end_time": "2024-02-14T20:15:53.191346Z",
     "start_time": "2024-02-14T20:15:53.187249Z"
    }
   },
   "id": "e554a128ab0b806",
   "execution_count": 10
  },
  {
   "cell_type": "code",
   "outputs": [],
   "source": [],
   "metadata": {
    "collapsed": false,
    "ExecuteTime": {
     "end_time": "2024-02-14T20:14:12.681723Z",
     "start_time": "2024-02-14T20:14:12.679609Z"
    }
   },
   "id": "a36b4fff4438607f",
   "execution_count": 7
  },
  {
   "cell_type": "code",
   "outputs": [],
   "source": [],
   "metadata": {
    "collapsed": false,
    "ExecuteTime": {
     "end_time": "2024-02-14T20:12:50.898194Z",
     "start_time": "2024-02-14T20:12:50.895906Z"
    }
   },
   "id": "2ecb0cded0aaf224",
   "execution_count": 5
  },
  {
   "cell_type": "code",
   "outputs": [],
   "source": [],
   "metadata": {
    "collapsed": false
   },
   "id": "fa26690de372c3b6"
  }
 ],
 "metadata": {
  "kernelspec": {
   "display_name": "Python 3",
   "language": "python",
   "name": "python3"
  },
  "language_info": {
   "codemirror_mode": {
    "name": "ipython",
    "version": 2
   },
   "file_extension": ".py",
   "mimetype": "text/x-python",
   "name": "python",
   "nbconvert_exporter": "python",
   "pygments_lexer": "ipython2",
   "version": "2.7.6"
  }
 },
 "nbformat": 4,
 "nbformat_minor": 5
}
